{
 "cells": [
  {
   "cell_type": "markdown",
   "metadata": {},
   "source": [
    "## Нейронна мережа з ембедінгами BERT"
   ]
  },
  {
   "cell_type": "code",
   "execution_count": null,
   "metadata": {},
   "outputs": [],
   "source": [
    "import torch\n",
    "import torch.nn as nn\n",
    "import matplotlib.pyplot as plt\n",
    "from sklearn.model_selection import train_test_split\n",
    "from preprocessing import (get_x, get_y, bert_tokenize)\n",
    "from transformers import DistilBertTokenizer, DistilBertModel"
   ]
  },
  {
   "cell_type": "markdown",
   "metadata": {},
   "source": [
    "### Setup"
   ]
  },
  {
   "cell_type": "code",
   "execution_count": 2,
   "metadata": {},
   "outputs": [],
   "source": [
    "X = get_x()\n",
    "y = get_y()"
   ]
  },
  {
   "cell_type": "code",
   "execution_count": 3,
   "metadata": {},
   "outputs": [],
   "source": [
    "# loading bert tokenizer and model \n",
    "tokenizer = DistilBertTokenizer.from_pretrained('distilbert-base-uncased')\n",
    "bert_model = DistilBertModel.from_pretrained('distilbert-base-uncased')"
   ]
  },
  {
   "cell_type": "code",
   "execution_count": 4,
   "metadata": {},
   "outputs": [],
   "source": [
    "# train, val, test split\n",
    "X_train, X_temp, y_train, y_temp = train_test_split(X, y, test_size=0.3, random_state=42)\n",
    "X_val, X_test, y_val, y_test = train_test_split(X_temp, y_temp, test_size=0.5, random_state=42)"
   ]
  },
  {
   "cell_type": "code",
   "execution_count": 5,
   "metadata": {},
   "outputs": [],
   "source": [
    "X_train_tokens = torch.LongTensor(bert_tokenize(x=X_train))\n",
    "X_test_tokens = torch.LongTensor(bert_tokenize(x=X_test))\n",
    "X_val_tokens = torch.LongTensor(bert_tokenize(x=X_val))"
   ]
  },
  {
   "cell_type": "code",
   "execution_count": 6,
   "metadata": {},
   "outputs": [
    {
     "name": "stderr",
     "output_type": "stream",
     "text": [
      "We strongly recommend passing in an `attention_mask` since your input_ids may be padded. See https://huggingface.co/docs/transformers/troubleshooting#incorrect-output-when-padding-tokens-arent-masked.\n"
     ]
    }
   ],
   "source": [
    "# getting embeddings\n",
    "with torch.no_grad():\n",
    "    X_train_embeddings = bert_model(X_train_tokens).last_hidden_state[:, 0, :]\n",
    "    X_test_embeddings = bert_model(X_test_tokens).last_hidden_state[:, 0, :]\n",
    "    X_val_embeddings = bert_model(X_val_tokens).last_hidden_state[:, 0, :]\n"
   ]
  },
  {
   "cell_type": "code",
   "execution_count": 7,
   "metadata": {},
   "outputs": [],
   "source": [
    "y_train = torch.tensor(y_train, dtype=torch.float).view(-1, 1) \n",
    "y_test = torch.tensor(y_test, dtype=torch.float).view(-1, 1) \n",
    "y_val = torch.tensor(y_val, dtype=torch.float).view(-1, 1) \n"
   ]
  },
  {
   "cell_type": "code",
   "execution_count": 8,
   "metadata": {},
   "outputs": [],
   "source": [
    "# hyperparams\n",
    "num_epochs = 100\n",
    "hidden_dim = 128\n",
    "input_dim = 768\n",
    "output_dim = 1\n",
    "learning_rate = 0.01"
   ]
  },
  {
   "cell_type": "code",
   "execution_count": 9,
   "metadata": {},
   "outputs": [],
   "source": [
    "class SequentialModel(torch.nn.Module):\n",
    "     def __init__(self, input_dim, hidden_dim, output_dim):\n",
    "        super(SequentialModel, self).__init__()\n",
    "        self.fc = nn.Linear(input_dim, hidden_dim)\n",
    "        self.relu = nn.ReLU()\n",
    "        self.out = nn.Linear(hidden_dim, output_dim)\n",
    "         \n",
    "\n",
    "     def forward(self, x):\n",
    "        x = self.fc(x)\n",
    "        x = self.relu(x)\n",
    "        x = torch.sigmoid(self.out(x))\n",
    "        return x"
   ]
  },
  {
   "cell_type": "code",
   "execution_count": 10,
   "metadata": {},
   "outputs": [],
   "source": [
    "model = SequentialModel(input_dim=input_dim, hidden_dim=hidden_dim, output_dim=output_dim)"
   ]
  },
  {
   "cell_type": "code",
   "execution_count": 11,
   "metadata": {},
   "outputs": [],
   "source": [
    "criterion = nn.BCELoss()"
   ]
  },
  {
   "cell_type": "code",
   "execution_count": 12,
   "metadata": {},
   "outputs": [],
   "source": [
    "optimizer = torch.optim.Adam(model.parameters(), lr=learning_rate)"
   ]
  },
  {
   "cell_type": "markdown",
   "metadata": {},
   "source": [
    "### Тренування"
   ]
  },
  {
   "cell_type": "code",
   "execution_count": 13,
   "metadata": {},
   "outputs": [],
   "source": [
    "from sklearn.metrics import accuracy_score"
   ]
  },
  {
   "cell_type": "code",
   "execution_count": 15,
   "metadata": {},
   "outputs": [
    {
     "name": "stdout",
     "output_type": "stream",
     "text": [
      "Epoch: 1/100, Training Loss: 0.45712876319885254, Validation Loss: 0.32780200242996216\n",
      "Epoch: 2/100, Training Loss: 0.35139068961143494, Validation Loss: 0.2777467370033264\n",
      "Epoch: 3/100, Training Loss: 0.29588234424591064, Validation Loss: 0.2590468227863312\n",
      "Epoch: 4/100, Training Loss: 0.2730449140071869, Validation Loss: 0.2484283149242401\n",
      "Epoch: 5/100, Training Loss: 0.2603342831134796, Validation Loss: 0.2286701798439026\n",
      "Epoch: 6/100, Training Loss: 0.23969528079032898, Validation Loss: 0.2025175392627716\n",
      "Epoch: 7/100, Training Loss: 0.21342165768146515, Validation Loss: 0.17601022124290466\n",
      "Epoch: 8/100, Training Loss: 0.18738792836666107, Validation Loss: 0.15306566655635834\n",
      "Epoch: 9/100, Training Loss: 0.165397047996521, Validation Loss: 0.135386124253273\n",
      "Epoch: 10/100, Training Loss: 0.14876794815063477, Validation Loss: 0.12271775305271149\n",
      "Epoch: 11/100, Training Loss: 0.13690677285194397, Validation Loss: 0.11365331709384918\n",
      "Epoch: 12/100, Training Loss: 0.1281769573688507, Validation Loss: 0.10644801706075668\n",
      "Epoch: 13/100, Training Loss: 0.12090513855218887, Validation Loss: 0.1004592552781105\n",
      "Epoch: 14/100, Training Loss: 0.11462831497192383, Validation Loss: 0.09573781490325928\n",
      "Epoch: 15/100, Training Loss: 0.10972653329372406, Validation Loss: 0.09242211282253265\n",
      "Epoch: 16/100, Training Loss: 0.1064516231417656, Validation Loss: 0.09026698023080826\n",
      "Epoch: 17/100, Training Loss: 0.10447658598423004, Validation Loss: 0.08856379985809326\n",
      "Epoch: 18/100, Training Loss: 0.10294507443904877, Validation Loss: 0.08672823011875153\n",
      "Epoch: 19/100, Training Loss: 0.10108558088541031, Validation Loss: 0.08486770838499069\n",
      "Epoch: 20/100, Training Loss: 0.09888137876987457, Validation Loss: 0.08341889828443527\n",
      "Epoch: 21/100, Training Loss: 0.09682490676641464, Validation Loss: 0.08247903734445572\n",
      "Epoch: 22/100, Training Loss: 0.09515728801488876, Validation Loss: 0.08169491589069366\n",
      "Epoch: 23/100, Training Loss: 0.09360403567552567, Validation Loss: 0.08058378845453262\n",
      "Epoch: 24/100, Training Loss: 0.09170173853635788, Validation Loss: 0.07896789908409119\n",
      "Epoch: 25/100, Training Loss: 0.08930989354848862, Validation Loss: 0.07705670595169067\n",
      "Epoch: 26/100, Training Loss: 0.08667156845331192, Validation Loss: 0.07519175857305527\n",
      "Epoch: 27/100, Training Loss: 0.08413756638765335, Validation Loss: 0.0735478326678276\n",
      "Epoch: 28/100, Training Loss: 0.08179473131895065, Validation Loss: 0.07201827317476273\n",
      "Epoch: 29/100, Training Loss: 0.07945743948221207, Validation Loss: 0.07043681293725967\n",
      "Epoch: 30/100, Training Loss: 0.07693622261285782, Validation Loss: 0.0688318982720375\n",
      "Epoch: 31/100, Training Loss: 0.07433032989501953, Validation Loss: 0.06735947728157043\n",
      "Epoch: 32/100, Training Loss: 0.07192700356245041, Validation Loss: 0.06606116145849228\n",
      "Epoch: 33/100, Training Loss: 0.06985627859830856, Validation Loss: 0.06481325626373291\n",
      "Epoch: 34/100, Training Loss: 0.06799513101577759, Validation Loss: 0.06349730491638184\n",
      "Epoch: 35/100, Training Loss: 0.06619547307491302, Validation Loss: 0.0621965229511261\n",
      "Epoch: 36/100, Training Loss: 0.06449776142835617, Validation Loss: 0.06109369173645973\n",
      "Epoch: 37/100, Training Loss: 0.06308060139417648, Validation Loss: 0.06025891378521919\n",
      "Epoch: 38/100, Training Loss: 0.062002044171094894, Validation Loss: 0.05956270173192024\n",
      "Epoch: 39/100, Training Loss: 0.061102546751499176, Validation Loss: 0.05886518955230713\n",
      "Epoch: 40/100, Training Loss: 0.06024228036403656, Validation Loss: 0.05822059512138367\n",
      "Epoch: 41/100, Training Loss: 0.05949777364730835, Validation Loss: 0.05773612856864929\n",
      "Epoch: 42/100, Training Loss: 0.05897543206810951, Validation Loss: 0.05733427777886391\n",
      "Epoch: 43/100, Training Loss: 0.05855884775519371, Validation Loss: 0.05687784403562546\n",
      "Epoch: 44/100, Training Loss: 0.058065786957740784, Validation Loss: 0.05638100579380989\n",
      "Epoch: 45/100, Training Loss: 0.0574948750436306, Validation Loss: 0.055904168635606766\n",
      "Epoch: 46/100, Training Loss: 0.056917887181043625, Validation Loss: 0.055375803261995316\n",
      "Epoch: 47/100, Training Loss: 0.05626237764954567, Validation Loss: 0.054715052247047424\n",
      "Epoch: 48/100, Training Loss: 0.05544426292181015, Validation Loss: 0.05400281772017479\n",
      "Epoch: 49/100, Training Loss: 0.054547324776649475, Validation Loss: 0.05335572361946106\n",
      "Epoch: 50/100, Training Loss: 0.053681857883930206, Validation Loss: 0.05276285111904144\n",
      "Epoch: 51/100, Training Loss: 0.05283869057893753, Validation Loss: 0.05219408497214317\n",
      "Epoch: 52/100, Training Loss: 0.05199972912669182, Validation Loss: 0.051691051572561264\n",
      "Epoch: 53/100, Training Loss: 0.05122888460755348, Validation Loss: 0.05128883197903633\n",
      "Epoch: 54/100, Training Loss: 0.05056965723633766, Validation Loss: 0.05095367506146431\n",
      "Epoch: 55/100, Training Loss: 0.04997824504971504, Validation Loss: 0.050655826926231384\n",
      "Epoch: 56/100, Training Loss: 0.04941219091415405, Validation Loss: 0.05040518194437027\n",
      "Epoch: 57/100, Training Loss: 0.04888860136270523, Validation Loss: 0.05019854009151459\n",
      "Epoch: 58/100, Training Loss: 0.04841790720820427, Validation Loss: 0.049990810453891754\n",
      "Epoch: 59/100, Training Loss: 0.047960881143808365, Validation Loss: 0.04974929988384247\n",
      "Epoch: 60/100, Training Loss: 0.047485947608947754, Validation Loss: 0.04948587343096733\n",
      "Epoch: 61/100, Training Loss: 0.04700390249490738, Validation Loss: 0.04921761527657509\n",
      "Epoch: 62/100, Training Loss: 0.04652648791670799, Validation Loss: 0.04893508553504944\n",
      "Epoch: 63/100, Training Loss: 0.046036310493946075, Validation Loss: 0.04862681031227112\n",
      "Epoch: 64/100, Training Loss: 0.045521415770053864, Validation Loss: 0.04830467328429222\n",
      "Epoch: 65/100, Training Loss: 0.045001234859228134, Validation Loss: 0.04797758534550667\n",
      "Epoch: 66/100, Training Loss: 0.04449135810136795, Validation Loss: 0.04763973876833916\n",
      "Epoch: 67/100, Training Loss: 0.0439833365380764, Validation Loss: 0.047295942902565\n",
      "Epoch: 68/100, Training Loss: 0.04347510263323784, Validation Loss: 0.04696941003203392\n",
      "Epoch: 69/100, Training Loss: 0.0429847277700901, Validation Loss: 0.04667022451758385\n",
      "Epoch: 70/100, Training Loss: 0.042518407106399536, Validation Loss: 0.04638354107737541\n",
      "Epoch: 71/100, Training Loss: 0.04206153750419617, Validation Loss: 0.046105243265628815\n",
      "Epoch: 72/100, Training Loss: 0.04161107540130615, Validation Loss: 0.045849863439798355\n",
      "Epoch: 73/100, Training Loss: 0.041174110025167465, Validation Loss: 0.04562528431415558\n",
      "Epoch: 74/100, Training Loss: 0.04073881357908249, Validation Loss: 0.04542579501867294\n",
      "Epoch: 75/100, Training Loss: 0.04029325023293495, Validation Loss: 0.04525722190737724\n",
      "Epoch: 76/100, Training Loss: 0.039843738079071045, Validation Loss: 0.04510914161801338\n",
      "Epoch: 77/100, Training Loss: 0.039390504360198975, Validation Loss: 0.04496274143457413\n",
      "Epoch: 78/100, Training Loss: 0.03892384469509125, Validation Loss: 0.044823624193668365\n",
      "Epoch: 79/100, Training Loss: 0.03844957426190376, Validation Loss: 0.04470789059996605\n",
      "Epoch: 80/100, Training Loss: 0.037977203726768494, Validation Loss: 0.044619496911764145\n",
      "Epoch: 81/100, Training Loss: 0.037503618746995926, Validation Loss: 0.04455690085887909\n",
      "Epoch: 82/100, Training Loss: 0.0370304249227047, Validation Loss: 0.044509608298540115\n",
      "Epoch: 83/100, Training Loss: 0.03656545653939247, Validation Loss: 0.044455185532569885\n",
      "Epoch: 84/100, Training Loss: 0.03610489144921303, Validation Loss: 0.04438091441988945\n",
      "Epoch: 85/100, Training Loss: 0.035644885152578354, Validation Loss: 0.04429469630122185\n",
      "Epoch: 86/100, Training Loss: 0.03518909215927124, Validation Loss: 0.04420647397637367\n",
      "Epoch: 87/100, Training Loss: 0.03473491221666336, Validation Loss: 0.04411708191037178\n",
      "Epoch: 88/100, Training Loss: 0.03427841141819954, Validation Loss: 0.04402008280158043\n",
      "Epoch: 89/100, Training Loss: 0.03382387384772301, Validation Loss: 0.043901924043893814\n",
      "Epoch: 90/100, Training Loss: 0.033369436860084534, Validation Loss: 0.043762292712926865\n",
      "Epoch: 91/100, Training Loss: 0.032912593334913254, Validation Loss: 0.043606553226709366\n",
      "Epoch: 92/100, Training Loss: 0.03245709836483002, Validation Loss: 0.043455470353364944\n",
      "Epoch: 93/100, Training Loss: 0.032003503292798996, Validation Loss: 0.04331829771399498\n",
      "Epoch: 94/100, Training Loss: 0.03155047073960304, Validation Loss: 0.043189674615859985\n",
      "Epoch: 95/100, Training Loss: 0.031100807711482048, Validation Loss: 0.04305422306060791\n",
      "Epoch: 96/100, Training Loss: 0.03065401129424572, Validation Loss: 0.042907532304525375\n",
      "Epoch: 97/100, Training Loss: 0.030208734795451164, Validation Loss: 0.042766131460666656\n",
      "Epoch: 98/100, Training Loss: 0.029766617342829704, Validation Loss: 0.04264767840504646\n",
      "Epoch: 99/100, Training Loss: 0.029327882453799248, Validation Loss: 0.042555518448352814\n",
      "Epoch: 100/100, Training Loss: 0.02889411710202694, Validation Loss: 0.04247104749083519\n",
      "Best epoch:  99\n"
     ]
    }
   ],
   "source": [
    "best_loss = float('inf')\n",
    "best_epoch = 0\n",
    "accuracies_train = []\n",
    "accuracies_val = []\n",
    "losses_train = []\n",
    "losses_val = []\n",
    "\n",
    "for epoch in range(num_epochs):\n",
    "    model.train()\n",
    "    optimizer.zero_grad()\n",
    "    outputs = model(X_train_embeddings)\n",
    "    \n",
    "    # loss\n",
    "    loss = criterion(outputs, y_train)\n",
    "    losses_train.append(loss)\n",
    "    loss.backward()\n",
    "    optimizer.step()\n",
    "\n",
    "    # accuracy\n",
    "    with torch.no_grad():\n",
    "        predicted = (outputs >= 0.5).squeeze().long()\n",
    "        accuracy = accuracy_score(y_train, predicted)\n",
    "        accuracies_train.append(accuracy)\n",
    "    \n",
    "    # validation\n",
    "    model.eval()\n",
    "    val_outputs = model(X_val_embeddings)\n",
    "\n",
    "    # val loss\n",
    "    val_loss = criterion(val_outputs, y_val)\n",
    "    losses_val.append(val_loss)\n",
    "\n",
    "    # val accuracy\n",
    "    with torch.no_grad():\n",
    "        predicted_val = (val_outputs >= 0.5).squeeze().long() \n",
    "        accuracy_val = accuracy_score(y_val, predicted_val)\n",
    "        accuracies_val.append(accuracy_val)\n",
    "    \n",
    "    if val_loss < best_loss:\n",
    "        best_loss = val_loss\n",
    "        best_epoch = epoch\n",
    "        best_weights = model.state_dict()\n",
    "    \n",
    "    print(f\"Epoch: {epoch+1}/{num_epochs}, Training Loss: {loss.item()}, Validation Loss: {val_loss.item()}\")\n",
    "print(\"Best epoch: \", best_epoch)\n"
   ]
  },
  {
   "cell_type": "code",
   "execution_count": 16,
   "metadata": {},
   "outputs": [
    {
     "data": {
      "image/png": "[encoded data removed]",
      "text/plain": [
       "<Figure size 1200x400 with 2 Axes>"
      ]
     },
     "metadata": {},
     "output_type": "display_data"
    }
   ],
   "source": [
    "# lists to tensors\n",
    "losses_train = torch.tensor(losses_train)\n",
    "losses_val = torch.tensor(losses_val)\n",
    "accuracies_train = torch.tensor(accuracies_train)\n",
    "accuracies_val = torch.tensor(accuracies_val)\n",
    "\n",
    "# training and validation losses\n",
    "plt.figure(figsize=(12, 4))\n",
    "plt.subplot(1, 2, 1)\n",
    "plt.plot(losses_train.detach().numpy(), label='Training Loss')\n",
    "plt.plot(losses_val.detach().numpy(), label='Validation Loss')\n",
    "plt.xlabel('Epoch')\n",
    "plt.ylabel('Loss')\n",
    "plt.title('Training and Validation Loss')\n",
    "plt.legend()\n",
    "\n",
    "# training and validation accuracies\n",
    "plt.subplot(1, 2, 2)\n",
    "plt.plot(accuracies_train.detach().numpy(), label='Training Accuracy')\n",
    "plt.plot(accuracies_val.detach().numpy(), label='Validation Accuracy')\n",
    "plt.xlabel('Epoch')\n",
    "plt.ylabel('Accuracy')\n",
    "plt.title('Training and Validation Accuracy')\n",
    "plt.legend()\n",
    "\n",
    "plt.tight_layout()\n",
    "plt.show()\n"
   ]
  },
  {
   "cell_type": "markdown",
   "metadata": {},
   "source": [
    "### Метрики на тестових даних"
   ]
  },
  {
   "cell_type": "markdown",
   "metadata": {},
   "source": [
    "*Метрики*:\n",
    "- Accuracy\n",
    "- Precision\n",
    "- Recall \n",
    "- f1"
   ]
  },
  {
   "cell_type": "code",
   "execution_count": 17,
   "metadata": {},
   "outputs": [],
   "source": [
    "from sklearn.metrics import (precision_score, recall_score, f1_score)"
   ]
  },
  {
   "cell_type": "code",
   "execution_count": 19,
   "metadata": {},
   "outputs": [],
   "source": [
    "test_outputs = model(X_test_embeddings)\n",
    "test_outputs = (test_outputs >= 0.5).squeeze().long()\n"
   ]
  },
  {
   "cell_type": "code",
   "execution_count": 20,
   "metadata": {},
   "outputs": [],
   "source": [
    "test_accuracy = accuracy_score(y_test, test_outputs)\n",
    "test_precision = precision_score(y_test, test_outputs)\n",
    "test_recall = recall_score(y_test, test_outputs)\n",
    "test_f1 = f1_score(y_test, test_outputs)"
   ]
  },
  {
   "cell_type": "code",
   "execution_count": 21,
   "metadata": {},
   "outputs": [
    {
     "name": "stdout",
     "output_type": "stream",
     "text": [
      "Accuracy: 0.9844497607655502\n",
      "Precision: 0.9714285714285714\n",
      "Recall: 0.9107142857142857\n",
      "f1: 0.9400921658986174\n"
     ]
    }
   ],
   "source": [
    "print(\"Accuracy:\", test_accuracy)\n",
    "print(\"Precision:\", test_precision)\n",
    "print(\"Recall:\", test_recall)\n",
    "print(\"f1:\", test_f1)"
   ]
  }
 ],
 "metadata": {
  "kernelspec": {
   "display_name": "venv",
   "language": "python",
   "name": "python3"
  },
  "language_info": {
   "codemirror_mode": {
    "name": "ipython",
    "version": 3
   },
   "file_extension": ".py",
   "mimetype": "text/x-python",
   "name": "python",
   "nbconvert_exporter": "python",
   "pygments_lexer": "ipython3",
   "version": "3.10.11"
  }
 },
 "nbformat": 4,
 "nbformat_minor": 2
}
